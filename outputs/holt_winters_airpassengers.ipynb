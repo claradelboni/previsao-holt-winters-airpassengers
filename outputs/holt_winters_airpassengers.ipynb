{
  "cells": [
    {
      "cell_type": "markdown",
      "id": "45da3a1e",
      "metadata": {
        "id": "45da3a1e"
      },
      "source": [
        "# Previsão de Passageiros Aéreos com Holt-Winters ✈️\n",
        "\n",
        "Este notebook demonstra, de ponta a ponta, a aplicação do método **Holt-Winters** usando `statsmodels`\n",
        "em uma série temporal, utilizando o dataset **AirPassengers**, com observações mensais de 1949 a 1960.\n",
        "\n",
        "**Objetivo:** treinar um modelo de previsão de demanda de passageiros, validando o desempenho por meio de _grid search_,\n",
        "refazendo o ajuste final com os melhores parâmetros e gerando previsões para os **12 meses seguintes**.\n",
        "\n",
        "**Etapas:**\n",
        "1. Importação e exploração do dataset\n",
        "2. EDA rápida\n",
        "3. Funções de suporte ao modelo\n",
        "4. Split temporal e _grid search_ de parâmetros\n",
        "5. Refit e previsão final (12 meses)\n",
        "6. Gráfico final entre histórico e previsão\n",
        "7. Exportação dos artefatos (CSV, JSON, PNG)"
      ]
    },
    {
      "cell_type": "markdown",
      "id": "550e9e16",
      "metadata": {
        "id": "550e9e16"
      },
      "source": [
        "## 1) Importação e exploração do dataset"
      ]
    },
    {
      "cell_type": "code",
      "execution_count": 1,
      "id": "86ae9337",
      "metadata": {
        "colab": {
          "base_uri": "https://localhost:8080/",
          "height": 237
        },
        "id": "86ae9337",
        "outputId": "784ef332-12bd-45cc-922b-63317dcecee2"
      },
      "outputs": [
        {
          "output_type": "execute_result",
          "data": {
            "text/plain": [
              "            passageiros\n",
              "data                   \n",
              "1949-01-01          112\n",
              "1949-02-01          118\n",
              "1949-03-01          132\n",
              "1949-04-01          129\n",
              "1949-05-01          121"
            ],
            "text/html": [
              "\n",
              "  <div id=\"df-00935105-9da0-4b8b-9d68-ec9de1840cdb\" class=\"colab-df-container\">\n",
              "    <div>\n",
              "<style scoped>\n",
              "    .dataframe tbody tr th:only-of-type {\n",
              "        vertical-align: middle;\n",
              "    }\n",
              "\n",
              "    .dataframe tbody tr th {\n",
              "        vertical-align: top;\n",
              "    }\n",
              "\n",
              "    .dataframe thead th {\n",
              "        text-align: right;\n",
              "    }\n",
              "</style>\n",
              "<table border=\"1\" class=\"dataframe\">\n",
              "  <thead>\n",
              "    <tr style=\"text-align: right;\">\n",
              "      <th></th>\n",
              "      <th>passageiros</th>\n",
              "    </tr>\n",
              "    <tr>\n",
              "      <th>data</th>\n",
              "      <th></th>\n",
              "    </tr>\n",
              "  </thead>\n",
              "  <tbody>\n",
              "    <tr>\n",
              "      <th>1949-01-01</th>\n",
              "      <td>112</td>\n",
              "    </tr>\n",
              "    <tr>\n",
              "      <th>1949-02-01</th>\n",
              "      <td>118</td>\n",
              "    </tr>\n",
              "    <tr>\n",
              "      <th>1949-03-01</th>\n",
              "      <td>132</td>\n",
              "    </tr>\n",
              "    <tr>\n",
              "      <th>1949-04-01</th>\n",
              "      <td>129</td>\n",
              "    </tr>\n",
              "    <tr>\n",
              "      <th>1949-05-01</th>\n",
              "      <td>121</td>\n",
              "    </tr>\n",
              "  </tbody>\n",
              "</table>\n",
              "</div>\n",
              "    <div class=\"colab-df-buttons\">\n",
              "\n",
              "  <div class=\"colab-df-container\">\n",
              "    <button class=\"colab-df-convert\" onclick=\"convertToInteractive('df-00935105-9da0-4b8b-9d68-ec9de1840cdb')\"\n",
              "            title=\"Convert this dataframe to an interactive table.\"\n",
              "            style=\"display:none;\">\n",
              "\n",
              "  <svg xmlns=\"http://www.w3.org/2000/svg\" height=\"24px\" viewBox=\"0 -960 960 960\">\n",
              "    <path d=\"M120-120v-720h720v720H120Zm60-500h600v-160H180v160Zm220 220h160v-160H400v160Zm0 220h160v-160H400v160ZM180-400h160v-160H180v160Zm440 0h160v-160H620v160ZM180-180h160v-160H180v160Zm440 0h160v-160H620v160Z\"/>\n",
              "  </svg>\n",
              "    </button>\n",
              "\n",
              "  <style>\n",
              "    .colab-df-container {\n",
              "      display:flex;\n",
              "      gap: 12px;\n",
              "    }\n",
              "\n",
              "    .colab-df-convert {\n",
              "      background-color: #E8F0FE;\n",
              "      border: none;\n",
              "      border-radius: 50%;\n",
              "      cursor: pointer;\n",
              "      display: none;\n",
              "      fill: #1967D2;\n",
              "      height: 32px;\n",
              "      padding: 0 0 0 0;\n",
              "      width: 32px;\n",
              "    }\n",
              "\n",
              "    .colab-df-convert:hover {\n",
              "      background-color: #E2EBFA;\n",
              "      box-shadow: 0px 1px 2px rgba(60, 64, 67, 0.3), 0px 1px 3px 1px rgba(60, 64, 67, 0.15);\n",
              "      fill: #174EA6;\n",
              "    }\n",
              "\n",
              "    .colab-df-buttons div {\n",
              "      margin-bottom: 4px;\n",
              "    }\n",
              "\n",
              "    [theme=dark] .colab-df-convert {\n",
              "      background-color: #3B4455;\n",
              "      fill: #D2E3FC;\n",
              "    }\n",
              "\n",
              "    [theme=dark] .colab-df-convert:hover {\n",
              "      background-color: #434B5C;\n",
              "      box-shadow: 0px 1px 3px 1px rgba(0, 0, 0, 0.15);\n",
              "      filter: drop-shadow(0px 1px 2px rgba(0, 0, 0, 0.3));\n",
              "      fill: #FFFFFF;\n",
              "    }\n",
              "  </style>\n",
              "\n",
              "    <script>\n",
              "      const buttonEl =\n",
              "        document.querySelector('#df-00935105-9da0-4b8b-9d68-ec9de1840cdb button.colab-df-convert');\n",
              "      buttonEl.style.display =\n",
              "        google.colab.kernel.accessAllowed ? 'block' : 'none';\n",
              "\n",
              "      async function convertToInteractive(key) {\n",
              "        const element = document.querySelector('#df-00935105-9da0-4b8b-9d68-ec9de1840cdb');\n",
              "        const dataTable =\n",
              "          await google.colab.kernel.invokeFunction('convertToInteractive',\n",
              "                                                    [key], {});\n",
              "        if (!dataTable) return;\n",
              "\n",
              "        const docLinkHtml = 'Like what you see? Visit the ' +\n",
              "          '<a target=\"_blank\" href=https://colab.research.google.com/notebooks/data_table.ipynb>data table notebook</a>'\n",
              "          + ' to learn more about interactive tables.';\n",
              "        element.innerHTML = '';\n",
              "        dataTable['output_type'] = 'display_data';\n",
              "        await google.colab.output.renderOutput(dataTable, element);\n",
              "        const docLink = document.createElement('div');\n",
              "        docLink.innerHTML = docLinkHtml;\n",
              "        element.appendChild(docLink);\n",
              "      }\n",
              "    </script>\n",
              "  </div>\n",
              "\n",
              "\n",
              "    <div id=\"df-49a5b915-764e-4023-ae74-3377ba8255ca\">\n",
              "      <button class=\"colab-df-quickchart\" onclick=\"quickchart('df-49a5b915-764e-4023-ae74-3377ba8255ca')\"\n",
              "                title=\"Suggest charts\"\n",
              "                style=\"display:none;\">\n",
              "\n",
              "<svg xmlns=\"http://www.w3.org/2000/svg\" height=\"24px\"viewBox=\"0 0 24 24\"\n",
              "     width=\"24px\">\n",
              "    <g>\n",
              "        <path d=\"M19 3H5c-1.1 0-2 .9-2 2v14c0 1.1.9 2 2 2h14c1.1 0 2-.9 2-2V5c0-1.1-.9-2-2-2zM9 17H7v-7h2v7zm4 0h-2V7h2v10zm4 0h-2v-4h2v4z\"/>\n",
              "    </g>\n",
              "</svg>\n",
              "      </button>\n",
              "\n",
              "<style>\n",
              "  .colab-df-quickchart {\n",
              "      --bg-color: #E8F0FE;\n",
              "      --fill-color: #1967D2;\n",
              "      --hover-bg-color: #E2EBFA;\n",
              "      --hover-fill-color: #174EA6;\n",
              "      --disabled-fill-color: #AAA;\n",
              "      --disabled-bg-color: #DDD;\n",
              "  }\n",
              "\n",
              "  [theme=dark] .colab-df-quickchart {\n",
              "      --bg-color: #3B4455;\n",
              "      --fill-color: #D2E3FC;\n",
              "      --hover-bg-color: #434B5C;\n",
              "      --hover-fill-color: #FFFFFF;\n",
              "      --disabled-bg-color: #3B4455;\n",
              "      --disabled-fill-color: #666;\n",
              "  }\n",
              "\n",
              "  .colab-df-quickchart {\n",
              "    background-color: var(--bg-color);\n",
              "    border: none;\n",
              "    border-radius: 50%;\n",
              "    cursor: pointer;\n",
              "    display: none;\n",
              "    fill: var(--fill-color);\n",
              "    height: 32px;\n",
              "    padding: 0;\n",
              "    width: 32px;\n",
              "  }\n",
              "\n",
              "  .colab-df-quickchart:hover {\n",
              "    background-color: var(--hover-bg-color);\n",
              "    box-shadow: 0 1px 2px rgba(60, 64, 67, 0.3), 0 1px 3px 1px rgba(60, 64, 67, 0.15);\n",
              "    fill: var(--button-hover-fill-color);\n",
              "  }\n",
              "\n",
              "  .colab-df-quickchart-complete:disabled,\n",
              "  .colab-df-quickchart-complete:disabled:hover {\n",
              "    background-color: var(--disabled-bg-color);\n",
              "    fill: var(--disabled-fill-color);\n",
              "    box-shadow: none;\n",
              "  }\n",
              "\n",
              "  .colab-df-spinner {\n",
              "    border: 2px solid var(--fill-color);\n",
              "    border-color: transparent;\n",
              "    border-bottom-color: var(--fill-color);\n",
              "    animation:\n",
              "      spin 1s steps(1) infinite;\n",
              "  }\n",
              "\n",
              "  @keyframes spin {\n",
              "    0% {\n",
              "      border-color: transparent;\n",
              "      border-bottom-color: var(--fill-color);\n",
              "      border-left-color: var(--fill-color);\n",
              "    }\n",
              "    20% {\n",
              "      border-color: transparent;\n",
              "      border-left-color: var(--fill-color);\n",
              "      border-top-color: var(--fill-color);\n",
              "    }\n",
              "    30% {\n",
              "      border-color: transparent;\n",
              "      border-left-color: var(--fill-color);\n",
              "      border-top-color: var(--fill-color);\n",
              "      border-right-color: var(--fill-color);\n",
              "    }\n",
              "    40% {\n",
              "      border-color: transparent;\n",
              "      border-right-color: var(--fill-color);\n",
              "      border-top-color: var(--fill-color);\n",
              "    }\n",
              "    60% {\n",
              "      border-color: transparent;\n",
              "      border-right-color: var(--fill-color);\n",
              "    }\n",
              "    80% {\n",
              "      border-color: transparent;\n",
              "      border-right-color: var(--fill-color);\n",
              "      border-bottom-color: var(--fill-color);\n",
              "    }\n",
              "    90% {\n",
              "      border-color: transparent;\n",
              "      border-bottom-color: var(--fill-color);\n",
              "    }\n",
              "  }\n",
              "</style>\n",
              "\n",
              "      <script>\n",
              "        async function quickchart(key) {\n",
              "          const quickchartButtonEl =\n",
              "            document.querySelector('#' + key + ' button');\n",
              "          quickchartButtonEl.disabled = true;  // To prevent multiple clicks.\n",
              "          quickchartButtonEl.classList.add('colab-df-spinner');\n",
              "          try {\n",
              "            const charts = await google.colab.kernel.invokeFunction(\n",
              "                'suggestCharts', [key], {});\n",
              "          } catch (error) {\n",
              "            console.error('Error during call to suggestCharts:', error);\n",
              "          }\n",
              "          quickchartButtonEl.classList.remove('colab-df-spinner');\n",
              "          quickchartButtonEl.classList.add('colab-df-quickchart-complete');\n",
              "        }\n",
              "        (() => {\n",
              "          let quickchartButtonEl =\n",
              "            document.querySelector('#df-49a5b915-764e-4023-ae74-3377ba8255ca button');\n",
              "          quickchartButtonEl.style.display =\n",
              "            google.colab.kernel.accessAllowed ? 'block' : 'none';\n",
              "        })();\n",
              "      </script>\n",
              "    </div>\n",
              "\n",
              "    </div>\n",
              "  </div>\n"
            ],
            "application/vnd.google.colaboratory.intrinsic+json": {
              "type": "dataframe",
              "variable_name": "df",
              "summary": "{\n  \"name\": \"df\",\n  \"rows\": 144,\n  \"fields\": [\n    {\n      \"column\": \"data\",\n      \"properties\": {\n        \"dtype\": \"date\",\n        \"min\": \"1949-01-01 00:00:00\",\n        \"max\": \"1960-12-01 00:00:00\",\n        \"num_unique_values\": 144,\n        \"samples\": [\n          \"1958-10-01 00:00:00\",\n          \"1950-08-01 00:00:00\",\n          \"1955-11-01 00:00:00\"\n        ],\n        \"semantic_type\": \"\",\n        \"description\": \"\"\n      }\n    },\n    {\n      \"column\": \"passageiros\",\n      \"properties\": {\n        \"dtype\": \"number\",\n        \"std\": 119,\n        \"min\": 104,\n        \"max\": 622,\n        \"num_unique_values\": 118,\n        \"samples\": [\n          293,\n          340,\n          121\n        ],\n        \"semantic_type\": \"\",\n        \"description\": \"\"\n      }\n    }\n  ]\n}"
            }
          },
          "metadata": {},
          "execution_count": 1
        }
      ],
      "source": [
        "import numpy as np\n",
        "import pandas as pd\n",
        "import matplotlib.pyplot as plt\n",
        "from statsmodels.tsa.holtwinters import ExponentialSmoothing\n",
        "from pathlib import Path\n",
        "import json\n",
        "\n",
        "plt.rcParams[\"figure.figsize\"] = (10, 5)\n",
        "plt.rcParams[\"axes.grid\"] = True\n",
        "\n",
        "# Carregamento do dataset AirPassengers\n",
        "url = \"https://raw.githubusercontent.com/jbrownlee/Datasets/master/airline-passengers.csv\"\n",
        "df = pd.read_csv(url)\n",
        "df.columns = [\"data\", \"passageiros\"]\n",
        "df[\"data\"] = pd.to_datetime(df[\"data\"])\n",
        "df = df.set_index(\"data\").asfreq(\"MS\")\n",
        "\n",
        "df.head()\n"
      ]
    },
    {
      "cell_type": "markdown",
      "id": "9228078d",
      "metadata": {
        "id": "9228078d"
      },
      "source": [
        "## 2) EDA rápida e visualização inicial"
      ]
    },
    {
      "cell_type": "code",
      "execution_count": 3,
      "id": "95a01f91",
      "metadata": {
        "colab": {
          "base_uri": "https://localhost:8080/",
          "height": 746
        },
        "id": "95a01f91",
        "outputId": "a820468d-942a-40b1-9a29-921cea5c8e9f"
      },
      "outputs": [
        {
          "output_type": "stream",
          "name": "stdout",
          "text": [
            "Shape: (144, 1)\n",
            "Período: 1949-01-01 00:00:00 → 1960-12-01 00:00:00\n",
            "Frequência inferida: MS\n",
            "\n",
            "Resumo estatístico:\n",
            "       passageiros\n",
            "count   144.000000\n",
            "mean    280.298611\n",
            "std     119.966317\n",
            "min     104.000000\n",
            "25%     180.000000\n",
            "50%     265.500000\n",
            "75%     360.500000\n",
            "max     622.000000\n"
          ]
        },
        {
          "output_type": "display_data",
          "data": {
            "text/plain": [
              "<Figure size 1000x500 with 1 Axes>"
            ],
            "image/png": "[encoded data removed]"
          },
          "metadata": {}
        }
      ],
      "source": [
        "print(\"Shape:\", df.shape)\n",
        "print(\"Período:\", df.index.min(), \"→\", df.index.max())\n",
        "print(\"Frequência inferida:\", pd.infer_freq(df.index))\n",
        "print(\"\\nResumo estatístico:\")\n",
        "print(df.describe())\n",
        "\n",
        "df.plot(title=\"Número de Passageiros Aéreos (1949–1960)\", ylabel=\"Milhares\", xlabel=\"Ano\")\n",
        "plt.show()"
      ]
    },
    {
      "cell_type": "markdown",
      "source": [
        "Tendência crescente e sazonalidade anual, com picos no verão e vales no inverno."
      ],
      "metadata": {
        "id": "7ZTGdoTaX7Qj"
      },
      "id": "7ZTGdoTaX7Qj"
    },
    {
      "cell_type": "markdown",
      "id": "aab92498",
      "metadata": {
        "id": "aab92498"
      },
      "source": [
        "## 3) Funções de suporte ao modelo"
      ]
    },
    {
      "cell_type": "code",
      "execution_count": 12,
      "id": "55681f2f",
      "metadata": {
        "id": "55681f2f"
      },
      "outputs": [],
      "source": [
        "# Definindo funções reutilizáveis para organizar o fluxo da modelagem\n",
        "\n",
        "def time_split(series: pd.Series, val_periods: int = 12):\n",
        "    if val_periods <= 0 or val_periods >= len(series):\n",
        "        raise ValueError(\"val_periods deve estar entre 1 e len(series)-1.\")\n",
        "    y_train = series.iloc[:-val_periods]\n",
        "    y_val = series.iloc[-val_periods:]\n",
        "    return y_train, y_val\n",
        "\n",
        "def mape(y_true, y_pred):\n",
        "    y_true, y_pred = np.array(y_true), np.array(y_pred)\n",
        "    y_true_safe = np.where(y_true == 0, 1e-8, y_true)\n",
        "    return np.mean(np.abs((y_true - y_pred) / y_true_safe)) * 100\n",
        "\n",
        "def rmse(y_true, y_pred):\n",
        "    y_true, y_pred = np.array(y_true), np.array(y_pred)\n",
        "    return np.sqrt(np.mean((y_true - y_pred) ** 2))\n",
        "\n",
        "\n",
        "# Busca de hiperparâmetros\n",
        "def grid_search_holt_winters(y_train, y_val,\n",
        "                             seasonal_periods_grid=(12,),\n",
        "                             trend_opts=(\"add\", \"mul\"),\n",
        "                             seasonal_opts=(\"add\", \"mul\")):\n",
        "    results = []\n",
        "    for sp in seasonal_periods_grid:\n",
        "        for trend in trend_opts:\n",
        "            for seasonal in seasonal_opts:\n",
        "                try:\n",
        "                    model = ExponentialSmoothing(\n",
        "                        y_train, trend=trend, seasonal=seasonal,\n",
        "                        seasonal_periods=sp, initialization_method=\"estimated\"\n",
        "                    ).fit(optimized=True)\n",
        "                    y_hat = model.forecast(len(y_val))\n",
        "                    res = {\n",
        "                        \"seasonal_periods\": sp,\n",
        "                        \"trend\": trend,\n",
        "                        \"seasonal\": seasonal,\n",
        "                        \"MAPE\": mape(y_val, y_hat),\n",
        "                        \"RMSE\": rmse(y_val, y_hat)\n",
        "                    }\n",
        "                    results.append(res)\n",
        "                except Exception as e:\n",
        "                    results.append({\n",
        "                        \"seasonal_periods\": sp, \"trend\": trend, \"seasonal\": seasonal,\n",
        "                        \"MAPE\": np.inf, \"RMSE\": np.inf, \"error\": str(e)\n",
        "                    })\n",
        "    return pd.DataFrame(results).sort_values(by=[\"MAPE\", \"RMSE\"]).reset_index(drop=True)"
      ]
    },
    {
      "cell_type": "markdown",
      "id": "fe44c798",
      "metadata": {
        "id": "fe44c798"
      },
      "source": [
        "## 4) Split temporal e _grid search_"
      ]
    },
    {
      "cell_type": "code",
      "execution_count": 13,
      "id": "8ce998d7",
      "metadata": {
        "colab": {
          "base_uri": "https://localhost:8080/",
          "height": 193
        },
        "id": "8ce998d7",
        "outputId": "78a9eeac-f003-48bb-dd59-5d548383ec35"
      },
      "outputs": [
        {
          "output_type": "stream",
          "name": "stdout",
          "text": [
            "Top 5 combinações:\n"
          ]
        },
        {
          "output_type": "display_data",
          "data": {
            "text/plain": [
              "   seasonal_periods trend seasonal      MAPE       RMSE\n",
              "0                12   add      mul  2.207421  15.810380\n",
              "1                12   add      add  2.803136  16.981068\n",
              "2                12   mul      add  3.001162  18.305668\n",
              "3                12   mul      mul  4.326515  25.809151"
            ],
            "text/html": [
              "\n",
              "  <div id=\"df-59b130d6-2f94-4278-ba43-b4cef982c97e\" class=\"colab-df-container\">\n",
              "    <div>\n",
              "<style scoped>\n",
              "    .dataframe tbody tr th:only-of-type {\n",
              "        vertical-align: middle;\n",
              "    }\n",
              "\n",
              "    .dataframe tbody tr th {\n",
              "        vertical-align: top;\n",
              "    }\n",
              "\n",
              "    .dataframe thead th {\n",
              "        text-align: right;\n",
              "    }\n",
              "</style>\n",
              "<table border=\"1\" class=\"dataframe\">\n",
              "  <thead>\n",
              "    <tr style=\"text-align: right;\">\n",
              "      <th></th>\n",
              "      <th>seasonal_periods</th>\n",
              "      <th>trend</th>\n",
              "      <th>seasonal</th>\n",
              "      <th>MAPE</th>\n",
              "      <th>RMSE</th>\n",
              "    </tr>\n",
              "  </thead>\n",
              "  <tbody>\n",
              "    <tr>\n",
              "      <th>0</th>\n",
              "      <td>12</td>\n",
              "      <td>add</td>\n",
              "      <td>mul</td>\n",
              "      <td>2.207421</td>\n",
              "      <td>15.810380</td>\n",
              "    </tr>\n",
              "    <tr>\n",
              "      <th>1</th>\n",
              "      <td>12</td>\n",
              "      <td>add</td>\n",
              "      <td>add</td>\n",
              "      <td>2.803136</td>\n",
              "      <td>16.981068</td>\n",
              "    </tr>\n",
              "    <tr>\n",
              "      <th>2</th>\n",
              "      <td>12</td>\n",
              "      <td>mul</td>\n",
              "      <td>add</td>\n",
              "      <td>3.001162</td>\n",
              "      <td>18.305668</td>\n",
              "    </tr>\n",
              "    <tr>\n",
              "      <th>3</th>\n",
              "      <td>12</td>\n",
              "      <td>mul</td>\n",
              "      <td>mul</td>\n",
              "      <td>4.326515</td>\n",
              "      <td>25.809151</td>\n",
              "    </tr>\n",
              "  </tbody>\n",
              "</table>\n",
              "</div>\n",
              "    <div class=\"colab-df-buttons\">\n",
              "\n",
              "  <div class=\"colab-df-container\">\n",
              "    <button class=\"colab-df-convert\" onclick=\"convertToInteractive('df-59b130d6-2f94-4278-ba43-b4cef982c97e')\"\n",
              "            title=\"Convert this dataframe to an interactive table.\"\n",
              "            style=\"display:none;\">\n",
              "\n",
              "  <svg xmlns=\"http://www.w3.org/2000/svg\" height=\"24px\" viewBox=\"0 -960 960 960\">\n",
              "    <path d=\"M120-120v-720h720v720H120Zm60-500h600v-160H180v160Zm220 220h160v-160H400v160Zm0 220h160v-160H400v160ZM180-400h160v-160H180v160Zm440 0h160v-160H620v160ZM180-180h160v-160H180v160Zm440 0h160v-160H620v160Z\"/>\n",
              "  </svg>\n",
              "    </button>\n",
              "\n",
              "  <style>\n",
              "    .colab-df-container {\n",
              "      display:flex;\n",
              "      gap: 12px;\n",
              "    }\n",
              "\n",
              "    .colab-df-convert {\n",
              "      background-color: #E8F0FE;\n",
              "      border: none;\n",
              "      border-radius: 50%;\n",
              "      cursor: pointer;\n",
              "      display: none;\n",
              "      fill: #1967D2;\n",
              "      height: 32px;\n",
              "      padding: 0 0 0 0;\n",
              "      width: 32px;\n",
              "    }\n",
              "\n",
              "    .colab-df-convert:hover {\n",
              "      background-color: #E2EBFA;\n",
              "      box-shadow: 0px 1px 2px rgba(60, 64, 67, 0.3), 0px 1px 3px 1px rgba(60, 64, 67, 0.15);\n",
              "      fill: #174EA6;\n",
              "    }\n",
              "\n",
              "    .colab-df-buttons div {\n",
              "      margin-bottom: 4px;\n",
              "    }\n",
              "\n",
              "    [theme=dark] .colab-df-convert {\n",
              "      background-color: #3B4455;\n",
              "      fill: #D2E3FC;\n",
              "    }\n",
              "\n",
              "    [theme=dark] .colab-df-convert:hover {\n",
              "      background-color: #434B5C;\n",
              "      box-shadow: 0px 1px 3px 1px rgba(0, 0, 0, 0.15);\n",
              "      filter: drop-shadow(0px 1px 2px rgba(0, 0, 0, 0.3));\n",
              "      fill: #FFFFFF;\n",
              "    }\n",
              "  </style>\n",
              "\n",
              "    <script>\n",
              "      const buttonEl =\n",
              "        document.querySelector('#df-59b130d6-2f94-4278-ba43-b4cef982c97e button.colab-df-convert');\n",
              "      buttonEl.style.display =\n",
              "        google.colab.kernel.accessAllowed ? 'block' : 'none';\n",
              "\n",
              "      async function convertToInteractive(key) {\n",
              "        const element = document.querySelector('#df-59b130d6-2f94-4278-ba43-b4cef982c97e');\n",
              "        const dataTable =\n",
              "          await google.colab.kernel.invokeFunction('convertToInteractive',\n",
              "                                                    [key], {});\n",
              "        if (!dataTable) return;\n",
              "\n",
              "        const docLinkHtml = 'Like what you see? Visit the ' +\n",
              "          '<a target=\"_blank\" href=https://colab.research.google.com/notebooks/data_table.ipynb>data table notebook</a>'\n",
              "          + ' to learn more about interactive tables.';\n",
              "        element.innerHTML = '';\n",
              "        dataTable['output_type'] = 'display_data';\n",
              "        await google.colab.output.renderOutput(dataTable, element);\n",
              "        const docLink = document.createElement('div');\n",
              "        docLink.innerHTML = docLinkHtml;\n",
              "        element.appendChild(docLink);\n",
              "      }\n",
              "    </script>\n",
              "  </div>\n",
              "\n",
              "\n",
              "    <div id=\"df-da77bb53-c322-4594-9d88-9850fbbc8d3b\">\n",
              "      <button class=\"colab-df-quickchart\" onclick=\"quickchart('df-da77bb53-c322-4594-9d88-9850fbbc8d3b')\"\n",
              "                title=\"Suggest charts\"\n",
              "                style=\"display:none;\">\n",
              "\n",
              "<svg xmlns=\"http://www.w3.org/2000/svg\" height=\"24px\"viewBox=\"0 0 24 24\"\n",
              "     width=\"24px\">\n",
              "    <g>\n",
              "        <path d=\"M19 3H5c-1.1 0-2 .9-2 2v14c0 1.1.9 2 2 2h14c1.1 0 2-.9 2-2V5c0-1.1-.9-2-2-2zM9 17H7v-7h2v7zm4 0h-2V7h2v10zm4 0h-2v-4h2v4z\"/>\n",
              "    </g>\n",
              "</svg>\n",
              "      </button>\n",
              "\n",
              "<style>\n",
              "  .colab-df-quickchart {\n",
              "      --bg-color: #E8F0FE;\n",
              "      --fill-color: #1967D2;\n",
              "      --hover-bg-color: #E2EBFA;\n",
              "      --hover-fill-color: #174EA6;\n",
              "      --disabled-fill-color: #AAA;\n",
              "      --disabled-bg-color: #DDD;\n",
              "  }\n",
              "\n",
              "  [theme=dark] .colab-df-quickchart {\n",
              "      --bg-color: #3B4455;\n",
              "      --fill-color: #D2E3FC;\n",
              "      --hover-bg-color: #434B5C;\n",
              "      --hover-fill-color: #FFFFFF;\n",
              "      --disabled-bg-color: #3B4455;\n",
              "      --disabled-fill-color: #666;\n",
              "  }\n",
              "\n",
              "  .colab-df-quickchart {\n",
              "    background-color: var(--bg-color);\n",
              "    border: none;\n",
              "    border-radius: 50%;\n",
              "    cursor: pointer;\n",
              "    display: none;\n",
              "    fill: var(--fill-color);\n",
              "    height: 32px;\n",
              "    padding: 0;\n",
              "    width: 32px;\n",
              "  }\n",
              "\n",
              "  .colab-df-quickchart:hover {\n",
              "    background-color: var(--hover-bg-color);\n",
              "    box-shadow: 0 1px 2px rgba(60, 64, 67, 0.3), 0 1px 3px 1px rgba(60, 64, 67, 0.15);\n",
              "    fill: var(--button-hover-fill-color);\n",
              "  }\n",
              "\n",
              "  .colab-df-quickchart-complete:disabled,\n",
              "  .colab-df-quickchart-complete:disabled:hover {\n",
              "    background-color: var(--disabled-bg-color);\n",
              "    fill: var(--disabled-fill-color);\n",
              "    box-shadow: none;\n",
              "  }\n",
              "\n",
              "  .colab-df-spinner {\n",
              "    border: 2px solid var(--fill-color);\n",
              "    border-color: transparent;\n",
              "    border-bottom-color: var(--fill-color);\n",
              "    animation:\n",
              "      spin 1s steps(1) infinite;\n",
              "  }\n",
              "\n",
              "  @keyframes spin {\n",
              "    0% {\n",
              "      border-color: transparent;\n",
              "      border-bottom-color: var(--fill-color);\n",
              "      border-left-color: var(--fill-color);\n",
              "    }\n",
              "    20% {\n",
              "      border-color: transparent;\n",
              "      border-left-color: var(--fill-color);\n",
              "      border-top-color: var(--fill-color);\n",
              "    }\n",
              "    30% {\n",
              "      border-color: transparent;\n",
              "      border-left-color: var(--fill-color);\n",
              "      border-top-color: var(--fill-color);\n",
              "      border-right-color: var(--fill-color);\n",
              "    }\n",
              "    40% {\n",
              "      border-color: transparent;\n",
              "      border-right-color: var(--fill-color);\n",
              "      border-top-color: var(--fill-color);\n",
              "    }\n",
              "    60% {\n",
              "      border-color: transparent;\n",
              "      border-right-color: var(--fill-color);\n",
              "    }\n",
              "    80% {\n",
              "      border-color: transparent;\n",
              "      border-right-color: var(--fill-color);\n",
              "      border-bottom-color: var(--fill-color);\n",
              "    }\n",
              "    90% {\n",
              "      border-color: transparent;\n",
              "      border-bottom-color: var(--fill-color);\n",
              "    }\n",
              "  }\n",
              "</style>\n",
              "\n",
              "      <script>\n",
              "        async function quickchart(key) {\n",
              "          const quickchartButtonEl =\n",
              "            document.querySelector('#' + key + ' button');\n",
              "          quickchartButtonEl.disabled = true;  // To prevent multiple clicks.\n",
              "          quickchartButtonEl.classList.add('colab-df-spinner');\n",
              "          try {\n",
              "            const charts = await google.colab.kernel.invokeFunction(\n",
              "                'suggestCharts', [key], {});\n",
              "          } catch (error) {\n",
              "            console.error('Error during call to suggestCharts:', error);\n",
              "          }\n",
              "          quickchartButtonEl.classList.remove('colab-df-spinner');\n",
              "          quickchartButtonEl.classList.add('colab-df-quickchart-complete');\n",
              "        }\n",
              "        (() => {\n",
              "          let quickchartButtonEl =\n",
              "            document.querySelector('#df-da77bb53-c322-4594-9d88-9850fbbc8d3b button');\n",
              "          quickchartButtonEl.style.display =\n",
              "            google.colab.kernel.accessAllowed ? 'block' : 'none';\n",
              "        })();\n",
              "      </script>\n",
              "    </div>\n",
              "\n",
              "    </div>\n",
              "  </div>\n"
            ],
            "application/vnd.google.colaboratory.intrinsic+json": {
              "type": "dataframe",
              "summary": "{\n  \"name\": \"display(search\",\n  \"rows\": 4,\n  \"fields\": [\n    {\n      \"column\": \"seasonal_periods\",\n      \"properties\": {\n        \"dtype\": \"number\",\n        \"std\": 0,\n        \"min\": 12,\n        \"max\": 12,\n        \"num_unique_values\": 1,\n        \"samples\": [\n          12\n        ],\n        \"semantic_type\": \"\",\n        \"description\": \"\"\n      }\n    },\n    {\n      \"column\": \"trend\",\n      \"properties\": {\n        \"dtype\": \"string\",\n        \"num_unique_values\": 2,\n        \"samples\": [\n          \"mul\"\n        ],\n        \"semantic_type\": \"\",\n        \"description\": \"\"\n      }\n    },\n    {\n      \"column\": \"seasonal\",\n      \"properties\": {\n        \"dtype\": \"string\",\n        \"num_unique_values\": 2,\n        \"samples\": [\n          \"add\"\n        ],\n        \"semantic_type\": \"\",\n        \"description\": \"\"\n      }\n    },\n    {\n      \"column\": \"MAPE\",\n      \"properties\": {\n        \"dtype\": \"number\",\n        \"std\": 0.8940504202503051,\n        \"min\": 2.2074214313335156,\n        \"max\": 4.326514846335326,\n        \"num_unique_values\": 4,\n        \"samples\": [\n          2.8031363501178475\n        ],\n        \"semantic_type\": \"\",\n        \"description\": \"\"\n      }\n    },\n    {\n      \"column\": \"RMSE\",\n      \"properties\": {\n        \"dtype\": \"number\",\n        \"std\": 4.50522152006393,\n        \"min\": 15.81038040261183,\n        \"max\": 25.809150941171445,\n        \"num_unique_values\": 4,\n        \"samples\": [\n          16.98106818357396\n        ],\n        \"semantic_type\": \"\",\n        \"description\": \"\"\n      }\n    }\n  ]\n}"
            }
          },
          "metadata": {}
        }
      ],
      "source": [
        "series = df[\"passageiros\"]\n",
        "y_train, y_val = time_split(series, val_periods=12)\n",
        "\n",
        "search = grid_search_holt_winters(\n",
        "    y_train, y_val,\n",
        "    seasonal_periods_grid=(12,),\n",
        "    trend_opts=(\"add\", \"mul\"),\n",
        "    seasonal_opts=(\"add\", \"mul\")\n",
        ")\n",
        "\n",
        "print(\"Top 5 combinações:\")\n",
        "display(search.head())"
      ]
    },
    {
      "cell_type": "markdown",
      "id": "f1c3701c",
      "metadata": {
        "id": "f1c3701c"
      },
      "source": [
        "## 5) Refit final e previsão de 12 meses"
      ]
    },
    {
      "cell_type": "code",
      "execution_count": 14,
      "id": "cb44b85a",
      "metadata": {
        "colab": {
          "base_uri": "https://localhost:8080/"
        },
        "id": "cb44b85a",
        "outputId": "878ca2f9-9b3d-43e1-fab1-52643f094472"
      },
      "outputs": [
        {
          "output_type": "stream",
          "name": "stdout",
          "text": [
            "Melhor configuração: {'seasonal_periods': 12, 'trend': 'add', 'seasonal': 'mul', 'MAPE': 2.2074214313335156, 'RMSE': 15.81038040261183}\n"
          ]
        }
      ],
      "source": [
        "best = search.iloc[0].to_dict()\n",
        "trend, seasonal, sp = best[\"trend\"], best[\"seasonal\"], int(best[\"seasonal_periods\"])\n",
        "\n",
        "final_model = ExponentialSmoothing(\n",
        "    series, trend=trend, seasonal=seasonal, seasonal_periods=sp,\n",
        "    initialization_method=\"estimated\"\n",
        ").fit(optimized=True)\n",
        "\n",
        "forecast = final_model.forecast(12)\n",
        "print(\"Melhor configuração:\", best)"
      ]
    },
    {
      "cell_type": "markdown",
      "id": "c3b00235",
      "metadata": {
        "id": "c3b00235"
      },
      "source": [
        "## 6) Gráfico final — histórico, fitted e previsão (sem gap)"
      ]
    },
    {
      "cell_type": "code",
      "execution_count": 21,
      "id": "4298ddb1",
      "metadata": {
        "colab": {
          "base_uri": "https://localhost:8080/",
          "height": 488
        },
        "id": "4298ddb1",
        "outputId": "bf3e1fbf-59d2-48df-e446-fb6e8f6e3036"
      },
      "outputs": [
        {
          "output_type": "display_data",
          "data": {
            "text/plain": [
              "<Figure size 1000x500 with 1 Axes>"
            ],
            "image/png": "[encoded data removed]"
          },
          "metadata": {}
        }
      ],
      "source": [
        "ax = series.plot(label=\"Histórico\", linewidth=2)\n",
        "pd.Series(final_model.fittedvalues, index=series.index).plot(ax=ax, linestyle=\"--\", label=\"Fitted\")\n",
        "forecast.plot(ax=ax, label=\"Previsão\", linewidth=2)\n",
        "\n",
        "ax.set_title(\"Previsão de Passageiros Aéreos — Holt-Winters (12 meses à frente)\")\n",
        "ax.set_xlabel(\"Ano\")\n",
        "ax.set_ylabel(\"Passageiros (milhares)\")\n",
        "ax.legend()\n",
        "plt.show()"
      ]
    },
    {
      "cell_type": "markdown",
      "id": "0ec1854f",
      "metadata": {
        "id": "0ec1854f"
      },
      "source": [
        "## 7) Exportação dos artefatos (CSV, JSON, PNG)"
      ]
    },
    {
      "cell_type": "code",
      "execution_count": 18,
      "id": "85232aa0",
      "metadata": {
        "colab": {
          "base_uri": "https://localhost:8080/"
        },
        "id": "85232aa0",
        "outputId": "95eda343-d237-4f3b-e62f-654e1570692d"
      },
      "outputs": [
        {
          "output_type": "stream",
          "name": "stdout",
          "text": [
            "Arquivos salvos em: /mnt/data\n",
            " - previsao_airpassengers.csv\n",
            " - melhor_config_airpassengers.json\n",
            " - holt_winters_airpassengers.png\n"
          ]
        }
      ],
      "source": [
        "out_dir = Path(\"/mnt/data\")\n",
        "out_dir.mkdir(parents=True, exist_ok=True)\n",
        "\n",
        "# CSV e JSON\n",
        "pd.DataFrame({\"data\": forecast.index, \"previsao\": forecast.values}).to_csv(out_dir / \"previsao_airpassengers.csv\", index=False)\n",
        "with open(out_dir / \"melhor_config_airpassengers.json\", \"w\") as f:\n",
        "    json.dump(best, f, ensure_ascii=False, indent=2)\n",
        "\n",
        "# PNG\n",
        "fig_path = out_dir / \"holt_winters_airpassengers.png\"\n",
        "ax = series.plot(label=\"Histórico\", linewidth=2)\n",
        "pd.Series(final_model.fittedvalues, index=series.index).plot(ax=ax, linestyle=\"--\", label=\"Fitted\")\n",
        "forecast.plot(ax=ax, label=\"Previsão\", linewidth=2)\n",
        "ax.set_title(\"Previsão de Passageiros Aéreos — Holt-Winters (12 meses à frente)\")\n",
        "ax.set_xlabel(\"Ano\")\n",
        "ax.set_ylabel(\"Passageiros (milhares)\")\n",
        "ax.legend()\n",
        "plt.savefig(fig_path, bbox_inches=\"tight\")\n",
        "plt.close()\n",
        "\n",
        "print(\"Arquivos salvos em:\", out_dir)\n",
        "print(\" - previsao_airpassengers.csv\")\n",
        "print(\" - melhor_config_airpassengers.json\")\n",
        "print(\" - holt_winters_airpassengers.png\")"
      ]
    },
    {
      "cell_type": "code",
      "source": [
        "import os\n",
        "\n",
        "# Procurar recursivamente por arquivos com esses nomes\n",
        "for root, dirs, files in os.walk(\"/\"):\n",
        "    for file in files:\n",
        "        if \"airpassengers\" in file.lower():\n",
        "            print(os.path.join(root, file))"
      ],
      "metadata": {
        "colab": {
          "base_uri": "https://localhost:8080/"
        },
        "id": "yzuHAM3lmzee",
        "outputId": "5d19867f-3690-421e-f014-50b9e02b2d50"
      },
      "id": "yzuHAM3lmzee",
      "execution_count": 22,
      "outputs": [
        {
          "output_type": "stream",
          "name": "stdout",
          "text": [
            "/mnt/data/holt_winters_airpassengers.png\n",
            "/mnt/data/previsao_airpassengers.csv\n",
            "/mnt/data/melhor_config_airpassengers.json\n"
          ]
        }
      ]
    },
    {
      "cell_type": "code",
      "source": [
        "from google.colab import files\n",
        "files.download(\"/mnt/data/holt_winters_airpassengers.png\")\n"
      ],
      "metadata": {
        "colab": {
          "base_uri": "https://localhost:8080/",
          "height": 17
        },
        "id": "qgmtozlFnW6B",
        "outputId": "bf3ddb75-cdaf-44e6-82e7-158e7f404f4b"
      },
      "id": "qgmtozlFnW6B",
      "execution_count": 23,
      "outputs": [
        {
          "output_type": "display_data",
          "data": {
            "text/plain": [
              "<IPython.core.display.Javascript object>"
            ],
            "application/javascript": [
              "\n",
              "    async function download(id, filename, size) {\n",
              "      if (!google.colab.kernel.accessAllowed) {\n",
              "        return;\n",
              "      }\n",
              "      const div = document.createElement('div');\n",
              "      const label = document.createElement('label');\n",
              "      label.textContent = `Downloading \"${filename}\": `;\n",
              "      div.appendChild(label);\n",
              "      const progress = document.createElement('progress');\n",
              "      progress.max = size;\n",
              "      div.appendChild(progress);\n",
              "      document.body.appendChild(div);\n",
              "\n",
              "      const buffers = [];\n",
              "      let downloaded = 0;\n",
              "\n",
              "      const channel = await google.colab.kernel.comms.open(id);\n",
              "      // Send a message to notify the kernel that we're ready.\n",
              "      channel.send({})\n",
              "\n",
              "      for await (const message of channel.messages) {\n",
              "        // Send a message to notify the kernel that we're ready.\n",
              "        channel.send({})\n",
              "        if (message.buffers) {\n",
              "          for (const buffer of message.buffers) {\n",
              "            buffers.push(buffer);\n",
              "            downloaded += buffer.byteLength;\n",
              "            progress.value = downloaded;\n",
              "          }\n",
              "        }\n",
              "      }\n",
              "      const blob = new Blob(buffers, {type: 'application/binary'});\n",
              "      const a = document.createElement('a');\n",
              "      a.href = window.URL.createObjectURL(blob);\n",
              "      a.download = filename;\n",
              "      div.appendChild(a);\n",
              "      a.click();\n",
              "      div.remove();\n",
              "    }\n",
              "  "
            ]
          },
          "metadata": {}
        },
        {
          "output_type": "display_data",
          "data": {
            "text/plain": [
              "<IPython.core.display.Javascript object>"
            ],
            "application/javascript": [
              "download(\"download_3e72568b-5e4e-454c-9cb3-e66966a0973a\", \"holt_winters_airpassengers.png\", 71306)"
            ]
          },
          "metadata": {}
        }
      ]
    },
    {
      "cell_type": "code",
      "source": [
        "from google.colab import files\n",
        "files.download(\"/mnt/data/previsao_airpassengers.csv\")"
      ],
      "metadata": {
        "colab": {
          "base_uri": "https://localhost:8080/",
          "height": 17
        },
        "id": "8YpVbRkvndGM",
        "outputId": "072c30d3-9bcf-401c-cba5-dc7e2121d7d7"
      },
      "id": "8YpVbRkvndGM",
      "execution_count": 24,
      "outputs": [
        {
          "output_type": "display_data",
          "data": {
            "text/plain": [
              "<IPython.core.display.Javascript object>"
            ],
            "application/javascript": [
              "\n",
              "    async function download(id, filename, size) {\n",
              "      if (!google.colab.kernel.accessAllowed) {\n",
              "        return;\n",
              "      }\n",
              "      const div = document.createElement('div');\n",
              "      const label = document.createElement('label');\n",
              "      label.textContent = `Downloading \"${filename}\": `;\n",
              "      div.appendChild(label);\n",
              "      const progress = document.createElement('progress');\n",
              "      progress.max = size;\n",
              "      div.appendChild(progress);\n",
              "      document.body.appendChild(div);\n",
              "\n",
              "      const buffers = [];\n",
              "      let downloaded = 0;\n",
              "\n",
              "      const channel = await google.colab.kernel.comms.open(id);\n",
              "      // Send a message to notify the kernel that we're ready.\n",
              "      channel.send({})\n",
              "\n",
              "      for await (const message of channel.messages) {\n",
              "        // Send a message to notify the kernel that we're ready.\n",
              "        channel.send({})\n",
              "        if (message.buffers) {\n",
              "          for (const buffer of message.buffers) {\n",
              "            buffers.push(buffer);\n",
              "            downloaded += buffer.byteLength;\n",
              "            progress.value = downloaded;\n",
              "          }\n",
              "        }\n",
              "      }\n",
              "      const blob = new Blob(buffers, {type: 'application/binary'});\n",
              "      const a = document.createElement('a');\n",
              "      a.href = window.URL.createObjectURL(blob);\n",
              "      a.download = filename;\n",
              "      div.appendChild(a);\n",
              "      a.click();\n",
              "      div.remove();\n",
              "    }\n",
              "  "
            ]
          },
          "metadata": {}
        },
        {
          "output_type": "display_data",
          "data": {
            "text/plain": [
              "<IPython.core.display.Javascript object>"
            ],
            "application/javascript": [
              "download(\"download_666f72c1-f193-449a-993e-1654cd32444b\", \"previsao_airpassengers.csv\", 358)"
            ]
          },
          "metadata": {}
        }
      ]
    },
    {
      "cell_type": "code",
      "source": [
        "from google.colab import files\n",
        "files.download(\"/mnt/data/melhor_config_airpassengers.json\")"
      ],
      "metadata": {
        "colab": {
          "base_uri": "https://localhost:8080/",
          "height": 17
        },
        "id": "hN01pGXKndiL",
        "outputId": "594516b5-ce6b-4442-d1c9-aa36506c1824"
      },
      "id": "hN01pGXKndiL",
      "execution_count": 25,
      "outputs": [
        {
          "output_type": "display_data",
          "data": {
            "text/plain": [
              "<IPython.core.display.Javascript object>"
            ],
            "application/javascript": [
              "\n",
              "    async function download(id, filename, size) {\n",
              "      if (!google.colab.kernel.accessAllowed) {\n",
              "        return;\n",
              "      }\n",
              "      const div = document.createElement('div');\n",
              "      const label = document.createElement('label');\n",
              "      label.textContent = `Downloading \"${filename}\": `;\n",
              "      div.appendChild(label);\n",
              "      const progress = document.createElement('progress');\n",
              "      progress.max = size;\n",
              "      div.appendChild(progress);\n",
              "      document.body.appendChild(div);\n",
              "\n",
              "      const buffers = [];\n",
              "      let downloaded = 0;\n",
              "\n",
              "      const channel = await google.colab.kernel.comms.open(id);\n",
              "      // Send a message to notify the kernel that we're ready.\n",
              "      channel.send({})\n",
              "\n",
              "      for await (const message of channel.messages) {\n",
              "        // Send a message to notify the kernel that we're ready.\n",
              "        channel.send({})\n",
              "        if (message.buffers) {\n",
              "          for (const buffer of message.buffers) {\n",
              "            buffers.push(buffer);\n",
              "            downloaded += buffer.byteLength;\n",
              "            progress.value = downloaded;\n",
              "          }\n",
              "        }\n",
              "      }\n",
              "      const blob = new Blob(buffers, {type: 'application/binary'});\n",
              "      const a = document.createElement('a');\n",
              "      a.href = window.URL.createObjectURL(blob);\n",
              "      a.download = filename;\n",
              "      div.appendChild(a);\n",
              "      a.click();\n",
              "      div.remove();\n",
              "    }\n",
              "  "
            ]
          },
          "metadata": {}
        },
        {
          "output_type": "display_data",
          "data": {
            "text/plain": [
              "<IPython.core.display.Javascript object>"
            ],
            "application/javascript": [
              "download(\"download_5c5a1531-4ebe-4e51-8dac-41b547ffb7f0\", \"melhor_config_airpassengers.json\", 126)"
            ]
          },
          "metadata": {}
        }
      ]
    }
  ],
  "metadata": {
    "colab": {
      "provenance": []
    },
    "language_info": {
      "name": "python"
    },
    "kernelspec": {
      "name": "python3",
      "display_name": "Python 3"
    }
  },
  "nbformat": 4,
  "nbformat_minor": 5
}